{
 "cells": [
  {
   "cell_type": "markdown",
   "metadata": {
    "colab_type": "text",
    "id": "qZfz_wou0ds7"
   },
   "source": [
    "# **Higgs Boson Detector: Replicating Neural Network Architecture in TensorFlow**"
   ]
  },
  {
   "cell_type": "markdown",
   "metadata": {
    "colab_type": "text",
    "id": "qu8jm5UlyAHq"
   },
   "source": [
    "# **Objective**\n",
    "\n",
    "In the study of particle physics, proving the existence of a Higgs boson particle provides a potential answer to why particles are attributed with mass under the framework of the Standard Model that explains the forces of nature. Monte Carlo simulations were used to present data for the classification of Higgs Boson particle signals. \n",
    "\n",
    "This study aims to replicate the neural network design presented in the paper published in 2014 [\"Searching for exotic particles in high-energy physics with deep learning\"](https://arxiv.org/pdf/1402.4735.pdf) under the TensorFlow framework as well as consider potential improvements over the architecture provided. The neural network is tasked with discriminating Higgs boson particles from background noise.\n",
    "\n"
   ]
  },
  {
   "cell_type": "code",
   "execution_count": null,
   "metadata": {
    "colab": {
     "base_uri": "https://localhost:8080/",
     "height": 34
    },
    "colab_type": "code",
    "id": "a_xwWILkrx56",
    "outputId": "ee020ec1-bbd5-4ec8-9597-7cd375422283"
   },
   "outputs": [
    {
     "name": "stdout",
     "output_type": "stream",
     "text": [
      "2.2.0\n"
     ]
    }
   ],
   "source": [
    "from __future__ import absolute_import, division, print_function, unicode_literals\n",
    "\n",
    "try:\n",
    "  %tensorflow_version 2.x\n",
    "except Exception:\n",
    "  pass\n",
    "import tensorflow as tf\n",
    "\n",
    "from tensorflow.keras import layers\n",
    "from tensorflow.keras import regularizers\n",
    "from tensorflow.keras.optimizers import SGD\n",
    "from tensorflow.keras.layers import Dense, Embedding, SimpleRNN, Dropout, Activation\n",
    "\n",
    "print(tf.__version__)"
   ]
  },
  {
   "cell_type": "code",
   "execution_count": null,
   "metadata": {
    "colab": {},
    "colab_type": "code",
    "id": "YIcNfvftb7f2"
   },
   "outputs": [],
   "source": [
    "#!pip install -q git+https://github.com/tensorflow/docs\n",
    "\n",
    "import tensorflow_docs as tfdocs\n",
    "import tensorflow_docs.modeling\n",
    "import tensorflow_docs.plots\n",
    "\n",
    "from  IPython import display\n",
    "from matplotlib import pyplot as plt\n",
    "\n",
    "import numpy as np\n",
    "\n",
    "import pathlib\n",
    "import shutil\n",
    "import tempfile"
   ]
  },
  {
   "cell_type": "code",
   "execution_count": null,
   "metadata": {
    "colab": {},
    "colab_type": "code",
    "id": "vjRTf7vxca-l"
   },
   "outputs": [],
   "source": [
    "logdir = pathlib.Path(tempfile.mkdtemp())/\"tensorboard_logs\"\n",
    "shutil.rmtree(logdir, ignore_errors=True)"
   ]
  },
  {
   "cell_type": "markdown",
   "metadata": {
    "colab_type": "text",
    "id": "vxks3SkMLF3f"
   },
   "source": [
    "# **Data Description**\n",
    "\n",
    "Data for the Benchmark Case for Higgs Bosons (HIGGS), known as the [HIGGS Data Set](https://archive.ics.uci.edu/ml/datasets/HIGGS), is available at the UCI Machine Learning Repository. It consists of 11 million rows produced by Monte Carlo simulations. \n",
    "\n",
    "*   Column 1 denotes the label for the classification problem: 1 for a signal process that produces Higgs bosons and 0 for a background process that does not.\n",
    "*   Columns 2-22 are low-level features measured by particle detectors. For details, please refer to the attribute information on the dataset description landing page or the original paper.\n",
    "  * **low-level features**: lepton pT, lepton eta, lepton phi, missing energy magnitude, missing energy phi, jet 1 pt, jet 1 eta, jet 1 phi, jet 1 b-tag, jet 2 pt, jet 2 eta, jet 2 phi, jet 2 b-tag, jet 3 pt, jet 3 eta, jet 3 phi, jet 3 b-tag, jet 4 pt, jet 4 eta, jet 4 phi, jet 4 b-tag\n",
    "*   Columns 23-29 are high-level features based on the low-level ones, developed for discrimination purposes.\n",
    "  *  **high-level features**: m_jj, m_jjj, m_lv, m_jlv, m_bb, m_wbb, m_wwbb\n",
    "\n",
    "Note that the paper references two datasets for two different classification tasks: a benchmark case for Higgs bosons and a benchmark case for supersymmetry particles. Only the former is addressed in this discussion.\n"
   ]
  },
  {
   "cell_type": "code",
   "execution_count": null,
   "metadata": {
    "colab": {
     "base_uri": "https://localhost:8080/",
     "height": 51
    },
    "colab_type": "code",
    "id": "pk-7RqsB75Cp",
    "outputId": "7bd7d0fa-be39-4fa1-9b6d-9b3c8a888c9c"
   },
   "outputs": [
    {
     "name": "stdout",
     "output_type": "stream",
     "text": [
      "Downloading data from https://archive.ics.uci.edu/ml/machine-learning-databases/00280/HIGGS.csv.gz\n",
      "2816409600/2816407858 [==============================] - 132s 0us/step\n"
     ]
    }
   ],
   "source": [
    "gz = tf.keras.utils.get_file('HIGGS.csv.gz', 'https://archive.ics.uci.edu/ml/machine-learning-databases/00280/HIGGS.csv.gz')\n",
    "FEATURES = 28\n",
    "ds = tf.data.experimental.CsvDataset(gz,[float(),]*(FEATURES+1), compression_type=\"GZIP\")"
   ]
  },
  {
   "cell_type": "code",
   "execution_count": null,
   "metadata": {
    "colab": {},
    "colab_type": "code",
    "id": "Xr7RwoyGuD0G"
   },
   "outputs": [],
   "source": [
    "def pack_row(*row):\n",
    "  label = row[0]\n",
    "  features = tf.stack(row[1:],1)\n",
    "  return features, label"
   ]
  },
  {
   "cell_type": "code",
   "execution_count": null,
   "metadata": {
    "colab": {},
    "colab_type": "code",
    "id": "5nozGNlLuNiq"
   },
   "outputs": [],
   "source": [
    "packed_ds = ds.batch(10000).map(pack_row).unbatch()"
   ]
  },
  {
   "cell_type": "code",
   "execution_count": null,
   "metadata": {
    "colab": {
     "base_uri": "https://localhost:8080/",
     "height": 119
    },
    "colab_type": "code",
    "id": "bY3xdO7suwM7",
    "outputId": "8d827684-c8fa-4c12-d848-8353a3b032b1"
   },
   "outputs": [
    {
     "name": "stdout",
     "output_type": "stream",
     "text": [
      "tf.Tensor(\n",
      "[ 0.8692932  -0.6350818   0.22569026  0.32747006 -0.6899932   0.75420225\n",
      " -0.24857314 -1.0920639   0.          1.3749921  -0.6536742   0.9303491\n",
      "  1.1074361   1.1389043  -1.5781983  -1.0469854   0.          0.65792954\n",
      " -0.01045457 -0.04576717  3.1019614   1.35376     0.9795631   0.97807616\n",
      "  0.92000484  0.72165745  0.98875093  0.87667835], shape=(28,), dtype=float32)\n"
     ]
    }
   ],
   "source": [
    "for features,label in packed_ds.batch(1000).take(1):\n",
    "  print(features[0])"
   ]
  },
  {
   "cell_type": "code",
   "execution_count": null,
   "metadata": {
    "colab": {},
    "colab_type": "code",
    "id": "Kmp63Um_u5Kf"
   },
   "outputs": [],
   "source": [
    "N_VALIDATION = int(1e3)\n",
    "N_TRAIN = int(2.6e4)\n",
    "BUFFER_SIZE = int(1e4)\n",
    "BATCH_SIZE = 100\n",
    "STEPS_PER_EPOCH = N_TRAIN//BATCH_SIZE\n",
    "validate_ds = packed_ds.take(N_VALIDATION).cache()\n",
    "train_ds = packed_ds.skip(N_VALIDATION).take(N_TRAIN).cache()\n",
    "validate_ds = validate_ds.batch(BATCH_SIZE)\n",
    "train_ds = train_ds.shuffle(BUFFER_SIZE).repeat().batch(BATCH_SIZE)"
   ]
  },
  {
   "cell_type": "markdown",
   "metadata": {
    "colab_type": "text",
    "id": "YJXtICpWLQBz"
   },
   "source": [
    "# **Replica Neural Network**"
   ]
  },
  {
   "cell_type": "code",
   "execution_count": null,
   "metadata": {
    "colab": {},
    "colab_type": "code",
    "id": "wXca-DtDbqi-"
   },
   "outputs": [],
   "source": [
    "def get_callbacks(name):\n",
    "  return [\n",
    "    tfdocs.modeling.EpochDots(),\n",
    "    tf.keras.callbacks.EarlyStopping(monitor='val_binary_crossentropy', patience=200),\n",
    "    tf.keras.callbacks.TensorBoard(logdir/name),\n",
    "  ]"
   ]
  },
  {
   "cell_type": "code",
   "execution_count": null,
   "metadata": {
    "colab": {},
    "colab_type": "code",
    "id": "KP4bEyIbbEjR"
   },
   "outputs": [],
   "source": [
    "def compile_and_fit(model, name, optimizer=None, max_epochs=1000):\n",
    "  if optimizer is None:\n",
    "    optimizer = get_optimizer()\n",
    "  model.compile(optimizer=optimizer,\n",
    "                loss=tf.keras.losses.BinaryCrossentropy(from_logits=True),\n",
    "                metrics=[tf.keras.metrics.AUC(name='AUC'),tf.keras.losses.BinaryCrossentropy(from_logits=True, name='binary_crossentropy')])\n",
    "\n",
    "  model.summary()\n",
    "\n",
    "  history = model.fit(\n",
    "    train_ds,\n",
    "    steps_per_epoch = STEPS_PER_EPOCH,\n",
    "    epochs=max_epochs,\n",
    "    validation_data=validate_ds,\n",
    "    callbacks=get_callbacks(name),\n",
    "    verbose=0)\n",
    "  return history"
   ]
  },
  {
   "cell_type": "code",
   "execution_count": null,
   "metadata": {
    "colab": {},
    "colab_type": "code",
    "id": "6hZMuN0ThmSD"
   },
   "outputs": [],
   "source": [
    "replica = tf.keras.Sequential([\n",
    "    layers.Dense(300, activation='tanh', input_shape=(FEATURES,)),\n",
    "    layers.Dropout(0.5),\n",
    "    layers.Dense(300, activation='tanh', input_shape=(FEATURES,)),\n",
    "    layers.Dense(300, activation='tanh', input_shape=(FEATURES,)),\n",
    "    layers.Dense(300, activation='tanh', input_shape=(FEATURES,)),\n",
    "    layers.Dense(1, activation='sigmoid')\n",
    "])"
   ]
  },
  {
   "cell_type": "code",
   "execution_count": null,
   "metadata": {
    "colab": {
     "base_uri": "https://localhost:8080/",
     "height": 714
    },
    "colab_type": "code",
    "id": "J7Zgx0K_bKXd",
    "outputId": "5a174961-bc78-4708-d978-9e8a0c4ad187"
   },
   "outputs": [
    {
     "name": "stdout",
     "output_type": "stream",
     "text": [
      "Model: \"sequential_2\"\n",
      "_________________________________________________________________\n",
      "Layer (type)                 Output Shape              Param #   \n",
      "=================================================================\n",
      "dense_10 (Dense)             (None, 300)               8700      \n",
      "_________________________________________________________________\n",
      "dropout_2 (Dropout)          (None, 300)               0         \n",
      "_________________________________________________________________\n",
      "dense_11 (Dense)             (None, 300)               90300     \n",
      "_________________________________________________________________\n",
      "dense_12 (Dense)             (None, 300)               90300     \n",
      "_________________________________________________________________\n",
      "dense_13 (Dense)             (None, 300)               90300     \n",
      "_________________________________________________________________\n",
      "dense_14 (Dense)             (None, 1)                 301       \n",
      "=================================================================\n",
      "Total params: 279,901\n",
      "Trainable params: 279,901\n",
      "Non-trainable params: 0\n",
      "_________________________________________________________________\n",
      "\n",
      "Epoch: 0, AUC:0.5207,  binary_crossentropy:0.6920,  loss:0.6920,  val_AUC:0.5056,  val_binary_crossentropy:0.6925,  val_loss:0.6925,  \n",
      "....................................................................................................\n",
      "Epoch: 100, AUC:0.5002,  binary_crossentropy:0.6931,  loss:0.6931,  val_AUC:0.5000,  val_binary_crossentropy:0.6931,  val_loss:0.6931,  \n",
      "....................................................................................................\n",
      "Epoch: 200, AUC:0.5231,  binary_crossentropy:0.6871,  loss:0.6871,  val_AUC:0.5120,  val_binary_crossentropy:0.6882,  val_loss:0.6882,  \n",
      "....................................................................................................\n",
      "Epoch: 300, AUC:0.5616,  binary_crossentropy:0.6837,  loss:0.6837,  val_AUC:0.5682,  val_binary_crossentropy:0.6750,  val_loss:0.6750,  \n",
      "....................................................................................................\n",
      "Epoch: 400, AUC:0.6211,  binary_crossentropy:0.6670,  loss:0.6670,  val_AUC:0.6210,  val_binary_crossentropy:0.6659,  val_loss:0.6659,  \n",
      "....................................................................................................\n",
      "Epoch: 500, AUC:0.6897,  binary_crossentropy:0.6472,  loss:0.6472,  val_AUC:0.7060,  val_binary_crossentropy:0.6417,  val_loss:0.6417,  \n",
      "....................................................................................................\n",
      "Epoch: 600, AUC:0.7112,  binary_crossentropy:0.6390,  loss:0.6390,  val_AUC:0.7181,  val_binary_crossentropy:0.6341,  val_loss:0.6341,  \n",
      "....................................................................................................\n",
      "Epoch: 700, AUC:0.7216,  binary_crossentropy:0.6325,  loss:0.6325,  val_AUC:0.7145,  val_binary_crossentropy:0.6276,  val_loss:0.6276,  \n",
      "....................................................................................................\n",
      "Epoch: 800, AUC:0.7238,  binary_crossentropy:0.6294,  loss:0.6294,  val_AUC:0.7121,  val_binary_crossentropy:0.6315,  val_loss:0.6315,  \n",
      "....................................................................................................\n",
      "Epoch: 900, AUC:0.7409,  binary_crossentropy:0.6235,  loss:0.6235,  val_AUC:0.7184,  val_binary_crossentropy:0.6313,  val_loss:0.6313,  \n",
      "......................................"
     ]
    }
   ],
   "source": [
    "histories = {}\n",
    "opt = SGD(lr=0.05, momentum=0.99, decay=1e-5)\n",
    "histories['replica'] = compile_and_fit(replica, 'replica', optimizer=opt)"
   ]
  },
  {
   "cell_type": "code",
   "execution_count": null,
   "metadata": {
    "colab": {},
    "colab_type": "code",
    "id": "n1hJzJJU0szm"
   },
   "outputs": [],
   "source": [
    "# Code from https://stackoverflow.com/questions/29888233/how-to-visualize-a-neural-network\n",
    "from math import cos, sin, atan\n",
    "\n",
    "class Neuron():\n",
    "    def __init__(self, x, y):\n",
    "        self.x = x\n",
    "        self.y = y\n",
    "\n",
    "    def draw(self, neuron_radius):\n",
    "        circle = plt.Circle((self.x, self.y), radius=neuron_radius, fill=False)\n",
    "        plt.gca().add_patch(circle)\n",
    "\n",
    "\n",
    "class Layer():\n",
    "    def __init__(self, network, number_of_neurons, number_of_neurons_in_widest_layer):\n",
    "        self.vertical_distance_between_layers = 6\n",
    "        self.horizontal_distance_between_neurons = 2\n",
    "        self.neuron_radius = 0.5\n",
    "        self.number_of_neurons_in_widest_layer = number_of_neurons_in_widest_layer\n",
    "        self.previous_layer = self.__get_previous_layer(network)\n",
    "        self.y = self.__calculate_layer_y_position()\n",
    "        self.neurons = self.__intialise_neurons(number_of_neurons)\n",
    "\n",
    "    def __intialise_neurons(self, number_of_neurons):\n",
    "        neurons = []\n",
    "        x = self.__calculate_left_margin_so_layer_is_centered(number_of_neurons)\n",
    "        for iteration in range(number_of_neurons):\n",
    "            neuron = Neuron(x, self.y)\n",
    "            neurons.append(neuron)\n",
    "            x += self.horizontal_distance_between_neurons\n",
    "        return neurons\n",
    "\n",
    "    def __calculate_left_margin_so_layer_is_centered(self, number_of_neurons):\n",
    "        return self.horizontal_distance_between_neurons * (self.number_of_neurons_in_widest_layer - number_of_neurons) / 2\n",
    "\n",
    "    def __calculate_layer_y_position(self):\n",
    "        if self.previous_layer:\n",
    "            return self.previous_layer.y + self.vertical_distance_between_layers\n",
    "        else:\n",
    "            return 0\n",
    "\n",
    "    def __get_previous_layer(self, network):\n",
    "        if len(network.layers) > 0:\n",
    "            return network.layers[-1]\n",
    "        else:\n",
    "            return None\n",
    "\n",
    "    def __line_between_two_neurons(self, neuron1, neuron2):\n",
    "        angle = atan((neuron2.x - neuron1.x) / float(neuron2.y - neuron1.y))\n",
    "        x_adjustment = self.neuron_radius * sin(angle)\n",
    "        y_adjustment = self.neuron_radius * cos(angle)\n",
    "        line = plt.Line2D((neuron1.x - x_adjustment, neuron2.x + x_adjustment), (neuron1.y - y_adjustment, neuron2.y + y_adjustment))\n",
    "        plt.gca().add_line(line)\n",
    "\n",
    "    def draw(self, layerType=0):\n",
    "        for neuron in self.neurons:\n",
    "            neuron.draw( self.neuron_radius )\n",
    "            if self.previous_layer:\n",
    "                for previous_layer_neuron in self.previous_layer.neurons:\n",
    "                    self.__line_between_two_neurons(neuron, previous_layer_neuron)\n",
    "        # write Text\n",
    "        x_text = self.number_of_neurons_in_widest_layer * self.horizontal_distance_between_neurons\n",
    "        if layerType == 0:\n",
    "            plt.text(x_text, self.y, 'Input Layer: 28 features', fontsize = 12)\n",
    "        elif layerType == -1:\n",
    "            plt.text(x_text, self.y, 'Output Layer', fontsize = 12)\n",
    "        else:\n",
    "            plt.text(x_text, self.y, 'Hidden Layer '+str(layerType)+': 300 neurons', fontsize = 12)\n",
    "\n",
    "class NeuralNetwork():\n",
    "    def __init__(self, number_of_neurons_in_widest_layer):\n",
    "        self.number_of_neurons_in_widest_layer = number_of_neurons_in_widest_layer\n",
    "        self.layers = []\n",
    "        self.layertype = 0\n",
    "\n",
    "    def add_layer(self, number_of_neurons ):\n",
    "        layer = Layer(self, number_of_neurons, self.number_of_neurons_in_widest_layer)\n",
    "        self.layers.append(layer)\n",
    "\n",
    "    def draw(self):\n",
    "        plt.figure()\n",
    "        for i in range( len(self.layers) ):\n",
    "            layer = self.layers[i]\n",
    "            if i == len(self.layers)-1:\n",
    "                i = -1\n",
    "            layer.draw( i )\n",
    "        plt.axis('scaled')\n",
    "        plt.axis('off')\n",
    "        plt.title('Replica Architecture', fontsize=15)\n",
    "        caption = 'Nodes pictured reduced for visual display purposes'\n",
    "        plt.figtext(0.5, 0.01, caption, wrap=True, horizontalalignment='center', fontsize=8)\n",
    "        plt.show()\n",
    "\n",
    "class DrawNN():\n",
    "    def __init__( self, neural_network ):\n",
    "        self.neural_network = neural_network\n",
    "\n",
    "    def draw( self ):\n",
    "        widest_layer = max( self.neural_network )\n",
    "        network = NeuralNetwork( widest_layer )\n",
    "        for l in self.neural_network:\n",
    "            network.add_layer(l)\n",
    "        network.draw()"
   ]
  },
  {
   "cell_type": "code",
   "execution_count": null,
   "metadata": {
    "colab": {
     "base_uri": "https://localhost:8080/",
     "height": 318
    },
    "colab_type": "code",
    "id": "H6PG58gR0vIB",
    "outputId": "3fd63658-a3b3-4f17-cc36-f0c01ccb35d3"
   },
   "outputs": [
    {
     "data": {
      "image/png": "[encoded data removed]",
      "text/plain": [
       "<Figure size 432x288 with 1 Axes>"
      ]
     },
     "metadata": {
      "needs_background": "light",
      "tags": []
     },
     "output_type": "display_data"
    },
    {
     "name": "stdout",
     "output_type": "stream",
     "text": [
      "Figure 1: Replica Higgs Boson Detection Deep Learning Architecture\n"
     ]
    }
   ],
   "source": [
    "# Correct layer argument should be [28,300,300,300,300,1]\n",
    "network = DrawNN( [3,10,10,10,10,1] )\n",
    "network.draw()\n",
    "print('Figure 1: Replica Higgs Boson Detection Deep Learning Architecture')"
   ]
  },
  {
   "cell_type": "markdown",
   "metadata": {
    "colab_type": "text",
    "id": "zoQ6Kerd5TWx"
   },
   "source": [
    "A highly simplified diagram of the paper's original architecture is shown above in Figure 1 to give some intuition to what is occurring. Creating an image where all hidden layers show 300 neurons and the connections between them would likely make it difficult to discern any nodes and edges at all. Further insight into the details of each layer, such as activation functions and weights, is discussed in the next section."
   ]
  },
  {
   "cell_type": "markdown",
   "metadata": {
    "colab_type": "text",
    "id": "K1n_8cXbLVfY"
   },
   "source": [
    "# **Discussion**\n",
    "\n",
    "\n",
    "\n",
    "*   **Activation functions**: All hidden units used the *tanh* activation function. Since the paper's publication in 2014, the Rectified Linear Unit (ReLU) has become more commonly used due to addressing issues of sparsity and vanishing gradients, both of which cause optimization problems for tanh.\n",
    "* **Optimizer**: The replica network uses a stochastic gradient descent (SGD) optimizer. Since 2014, SGD algorithms have been extended with the Adam algorithm that has the advantages of an adaptive gradient algorithm (AdaGrad) and root mean square propagation (RMSProp). The Adam optimizer similarly alleviates issues of sparse gradients on noisy problems. \n",
    "*   **Neurons**: 100, 200, 300, and 500 were hyperparameter options, with *300* neurons per hidden layer the actual number used. It is common to see the shape of the network narrow with depth (intuitively forcing the network to learn lower-level features and filter noise at subsequent layers), but current research does not support the notion this is required; it is equally valid from a performance standpoint to have the same number of neurons at each hidden layer. Some rule-of-thumb methods that bound the number of hidden neurons per layer using the input and output layer sizes were likely overridden by the sheer amount of training data and anticipated complexity of the problem.\n",
    "*   **Weights**: \n",
    "  *   First layer: 0.1\n",
    "  *   Hidden layers: 0.05\n",
    "  *   Output layer: 0.001\n",
    "\n",
    "  Initial weights were given by a normal distribution with standard deviations given by the above bullets. While randomizing initial weights is typical, predefining the variance based on the location in the architecture does not seem to be standard practice.\n",
    "*   **Decay rates**: 0 and 10<sup>-5</sup> were hyperparameter options, with 10<sup>-5</sup> ultimately chosen. The step-based decay value used is typical. Aother option aside from setting the learning rate schedule is to use an adaptive learning rate.\n",
    "*   **Batch sizes**: Mini-batches of 100 were used for estimating gradient descent. Power of 2 values (32, 64, 128, 256, etc) that match memory hardware are more commonly used.\n",
    "*   **Initial learning rate**: 0.01 and 0.05 were hyperparameter options, with *0.05* actually used. This value decayed by a factor of 1.0000002 after each batch until hitting a 10<sup>-6</sup> minimum. The initial rates are typical among default values, though a grid search for the initial rate commonly extends from 10<sup>-1</sup> to 10<sup>-6.\n",
    "*   **Layers**: 2, 3, 4, 5, and 6 were hyperparameter options, with a depth of *5* ultimately chosen. Note that this translates to four hidden layers and one output layer; the input layer is not counted in defining depth. Current empirical research shows one hidden layer is often sufficient, but it's possible that the complexity of this problem warrants more; Supplementary Table 3: Study of network size and depth in the original paper demonstrates significant AUC increases by increasing the number of hidden layers.\n",
    "*   **Dropout**: *0.5* in the first hidden layer only. This rate is still commonly used for hidden layers at the present time, though varying it by some value between [0.5, 0.9] can also be done. Some papers apply dropout to all hidden layers. Another potential practice is applying dropout on the input layer (though at a larger rate, usually 0.8).\n",
    "*   **Epochs**: Training time ranged from *200-1000* epochs, with early stopping defined when decrease in minimum error on the validation set plateaued. Stopping at a convergence point like this to prevent overfitting is currently standard practice.\n",
    "*   **Momentum**: Increased from *0.9 to 0.99* over the first 200 epochs. This type of progression is still typically used.\n",
    "\n",
    "\n",
    "It's worth noting that the context of this problem allowed for a large number of data points--subsets were used from 2.6 million training examples, 100,000 validation examples, and 500,000 test examples. The average AUC achieved was 0.885. While domain-specific literature could not be found that speaks to comparable AUC values, this classifier's performance would likely be considered good; despite the apparent complexity of the network, there is not substantial evidence of overfitting. Usage of dropout in the top most hidden layer and smaller weights in the later layers likely helped prevent overfitting in the original paper. To speed up training time, our replica network is only trained on 26,000 examples and validated on 1,000 examples.\n",
    "\n",
    "Trial-and-error via grid search was used to select the best-performing set of parameters. A similar approach would likely be employed today. Given sufficient time and computational constraints, the searchable parameters could be expanded as described above.\n",
    "\n",
    "The deep learning architecture in the paper employs a linearly increasing momentrum term for the stochastic gradient descent (SGD) optimizer over the first 200 epochs from 0.9 to 0.99. In contrast, the replica neural network presented is parameterized with a constant momentum term of 0.99 over all epochs.\n",
    "\n",
    "Since the paper's publication, many different types of neural networks have become more well-researched and popularized for varying use cases, including convolutional neural networks (CNN) and recurrent architectures like long short-term memory (LSTM). Combing the research for instances where emergent architectures have shown promise in this type of application could provide alternative methods that potentially involve fewer layers and faster training times without sacrificing performance."
   ]
  },
  {
   "cell_type": "markdown",
   "metadata": {
    "colab_type": "text",
    "id": "Fce4GMkorEQK"
   },
   "source": [
    "# **Comparison**\n",
    "\n",
    "The training and validation loss curves from our replica neural network highly overlap and provide strong evidence against overfitting, suggesting that it will generalize well to new data. The loss function used was binary_crossentropy since the problem is a binary classification: Higgs Boson signal against background signal noise.\n",
    "\n",
    "The curves begin to level off following roughly 700 training epochs as shown in Figure 2 below. The replica network completed training around 900 epochs with a early termination if there is no improvement after 200 epochs."
   ]
  },
  {
   "cell_type": "code",
   "execution_count": null,
   "metadata": {
    "colab": {
     "base_uri": "https://localhost:8080/",
     "height": 300
    },
    "colab_type": "code",
    "id": "5TqOpGPXT_Xo",
    "outputId": "c096cb40-99d7-40ca-a693-8fa0867a2c2f"
   },
   "outputs": [
    {
     "name": "stdout",
     "output_type": "stream",
     "text": [
      "Figure 2: Training and Validation Loss Curves\n"
     ]
    },
    {
     "data": {
      "image/png": "[encoded data removed]",
      "text/plain": [
       "<Figure size 432x288 with 1 Axes>"
      ]
     },
     "metadata": {
      "needs_background": "light",
      "tags": []
     },
     "output_type": "display_data"
    }
   ],
   "source": [
    "plotter = tfdocs.plots.HistoryPlotter(metric = 'binary_crossentropy', smoothing_std=10)\n",
    "plotter.plot(histories)\n",
    "plt.ylim([0.5, 0.7])\n",
    "print(\"Figure 2: Training and Validation Loss Curves\")"
   ]
  },
  {
   "cell_type": "markdown",
   "metadata": {
    "colab_type": "text",
    "id": "gJSn31ZyLcqw"
   },
   "source": [
    "\n",
    "The original paper describes use of Receiver Operating Characteristic (ROC) curves to show classifier performance, with the area under the ROC curve (AUC) as the main comparison metric. This is demonstrated in the paper's Table I: Performance for Higgs benchmark, which gives AUC values for boosted decision trees (BDT), shallow neural networks (NN), and deep neural networks (DN) on the low-level, high-level, and complete feature sets. \n",
    "\n",
    "AUC is a useful single-value comparison metric that is well-defined and unambiguous in its calculation, indicating overall tradeoff of a model's true positive rate against its false positive rate across various discrimination thresholds. Within the context of particle physics, ROC curves are often described in terms of background rejection (false positive rate) against signal efficiency (true positive rate). \n",
    "\n",
    "Notice that within the paper itself, comparisons are made across different learners, namely BDT and neural nets. This illustrates how the AUC can be used quantitatively to compare results of different techniques. Thus, with AUC we have a convenient method to compare our duplication of the original architecture (or use of any other learner). Specifically, we would likely compare against the DN on the complete dataset, which yielded the highest AUC at 0.885 +/- 0.002 over five instances."
   ]
  },
  {
   "cell_type": "code",
   "execution_count": null,
   "metadata": {
    "colab": {
     "base_uri": "https://localhost:8080/",
     "height": 300
    },
    "colab_type": "code",
    "id": "XIwlST1hooXU",
    "outputId": "f94e2813-c848-4fb5-aba8-00de562c48c3"
   },
   "outputs": [
    {
     "name": "stdout",
     "output_type": "stream",
     "text": [
      "Figure 3: Train and Validation AUC Curves\n"
     ]
    },
    {
     "data": {
      "image/png": "[encoded data removed]",
      "text/plain": [
       "<Figure size 432x288 with 1 Axes>"
      ]
     },
     "metadata": {
      "needs_background": "light",
      "tags": []
     },
     "output_type": "display_data"
    }
   ],
   "source": [
    "plotter = tfdocs.plots.HistoryPlotter(metric = 'AUC', smoothing_std=10)\n",
    "plotter.plot(histories)\n",
    "plt.ylim([0.4, 0.8])\n",
    "print(\"Figure 3: Train and Validation AUC Curves\")"
   ]
  },
  {
   "cell_type": "markdown",
   "metadata": {
    "colab_type": "text",
    "id": "nrPPoj4AvNH-"
   },
   "source": [
    "The AUC curves for our replica network architecture are shown above in Figure 3. On the validation data, the network yielded an AUC around 0.71 which underperforms compared to the paper's deep learning architecture (DN). This may be attributed to the smaller training and validation examples used for a shorter training time. The poor performance suggests that the linearly increasing momentum component for SGD may boost accuracy. \n",
    "\n",
    "However, this replica network presented has also yet to be optimized through hyperparameter tuning and modern algorithms. As previously noted, an Adam optimizer and the ReLU activation function may be more appropriate for this specific problem since they can help alleviate issues with sparse, vanishing gradients on noisy data such as particle signal collisions.\n",
    "\n",
    "Weight regularization also offers further improvement to this network architecture to constrain the complexity and dimensionality of a network. The distribution of parameter values is regularized by forcing parameter weights to be small. A L1 regularization adds a cost proportional to the absolute value of weight coefficients to the network's loss function. A L2 regularization adds a cost proportional to the squared value of weight coefficients. \n",
    "\n",
    "A L1 regularization tends to produce a sparse model since weights are pushed to exactly 0, while a L2 regularization penalizes weight parameters by associating large weights to a larger penalty without producing a sparse model."
   ]
  },
  {
   "cell_type": "markdown",
   "metadata": {
    "colab_type": "text",
    "id": "OF-6SkjeLewh"
   },
   "source": [
    "# **Conclusion**\n",
    "In our exploration of the Higgs classifier deep learning architecture in tensorflow, we found the paper provided a serviceable approach that produced decent results with no overfitting issues (validation AUC ~0.71). This was a large and deep network with several large hidden layers, but it was not optimized and much hyper-parameter tuning was missing.\n",
    "\n",
    "Key changes based on today's practices would be to address issues with the vanishing gradient, such as using a Rectified Linear Unit as an activation function instead of tanh. Another option is to use an Adam optimizer to ignore gradient entirely, and instead establish a per-parameter learning rate. Given that this domain contains a lot of noisy data, RMSProp would probably be the best option for an Adam optimizer.\n",
    "\n",
    "Overall, the main differences highlighted between neural network practices over the last 6 years are around the use of learning methods and model optimization. Many modern networks steer clear of single points of failure like sparse models and vanishing gradient, to which this model seems to fall victim. With some updates this could be a powerful model in particle physics.\n",
    "\n"
   ]
  }
 ],
 "metadata": {
  "accelerator": "GPU",
  "colab": {
   "collapsed_sections": [],
   "name": "AN_JC_MW_QTW_CaseStudy6.ipynb",
   "provenance": []
  },
  "kernelspec": {
   "display_name": "Python 3",
   "language": "python",
   "name": "python3"
  },
  "language_info": {
   "codemirror_mode": {
    "name": "ipython",
    "version": 3
   },
   "file_extension": ".py",
   "mimetype": "text/x-python",
   "name": "python",
   "nbconvert_exporter": "python",
   "pygments_lexer": "ipython3",
   "version": "3.7.4"
  }
 },
 "nbformat": 4,
 "nbformat_minor": 1
}